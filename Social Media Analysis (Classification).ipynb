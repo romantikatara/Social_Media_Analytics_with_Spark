{
 "cells": [
  {
   "cell_type": "markdown",
   "metadata": {},
   "source": [
    "# Social Media Analysis (Classification)"
   ]
  },
  {
   "cell_type": "markdown",
   "metadata": {},
   "source": [
    "Pada use case ini akan dilakukan klasifikasi dari dataset clean_tweet yang dapat diunduh pada link [dataset](https://drive.google.com/open?id=1q0MyZQphW-XN1WeJTkXPw1AQAKfdT5oI). Dari dataset tersebut akan dilakukan analisis klasifikasi untuk menentukan bagaimana proporsi sentimen positif dan negatifnya. Sehingga didapat insight dari dataset tersebut tentunya yang berkenaan dengan *twitter user behavior*."
   ]
  },
  {
   "cell_type": "markdown",
   "metadata": {},
   "source": [
    "### Load Librarys\n",
    "Berikut adalah librarys yang digunakan untuk mengerjakan use case *social media analysis* dengan metode klasifikasi."
   ]
  },
  {
   "cell_type": "code",
   "execution_count": 73,
   "metadata": {},
   "outputs": [
    {
     "name": "stderr",
     "output_type": "stream",
     "text": [
      "[nltk_data] Downloading package stopwords to\n",
      "[nltk_data]     C:\\Users\\tararo064184\\AppData\\Roaming\\nltk_data...\n",
      "[nltk_data]   Package stopwords is already up-to-date!\n"
     ]
    }
   ],
   "source": [
    "# import libraries\n",
    "import pandas as pd\n",
    "import numpy as np\n",
    "\n",
    "# import nltk module \n",
    "import nltk\n",
    "nltk.download('stopwords')\n",
    "from nltk.corpus import stopwords\n",
    "from nltk.stem import PorterStemmer\n",
    "\n",
    "# import textblob \n",
    "from textblob import TextBlob\n",
    "\n",
    "#visualization \n",
    "import matplotlib.pyplot as plt\n",
    "import seaborn as sns \n",
    "%matplotlib inline \n",
    "from wordcloud import WordCloud, STOPWORDS\n",
    "\n",
    "#import sklearn preprocessing \n",
    "from sklearn.pipeline import Pipeline\n",
    "from sklearn.feature_extraction.text import CountVectorizer\n",
    "from sklearn.feature_extraction.text import TfidfTransformer\n",
    "from sklearn.feature_extraction.text import TfidfVectorizer\n",
    "\n",
    "#import sklearn for modeling\n",
    "from sklearn import svm\n",
    "from sklearn.naive_bayes import MultinomialNB\n",
    "from sklearn.linear_model import LogisticRegression\n",
    "from sklearn.model_selection import train_test_split\n",
    "\n",
    "#import sklearn for model evaluation \n",
    "from sklearn.metrics import confusion_matrix, classification_report\n",
    "from sklearn.metrics import accuracy_score, precision_score, recall_score, f1_score, roc_auc_score"
   ]
  },
  {
   "cell_type": "markdown",
   "metadata": {},
   "source": [
    "### Load Dataset"
   ]
  },
  {
   "cell_type": "code",
   "execution_count": 2,
   "metadata": {},
   "outputs": [],
   "source": [
    "# Load dataset clean_tweet.csv\n",
    "data = pd.read_csv('clean_tweet.csv')"
   ]
  },
  {
   "cell_type": "code",
   "execution_count": 3,
   "metadata": {},
   "outputs": [
    {
     "data": {
      "text/html": [
       "<div>\n",
       "<style scoped>\n",
       "    .dataframe tbody tr th:only-of-type {\n",
       "        vertical-align: middle;\n",
       "    }\n",
       "\n",
       "    .dataframe tbody tr th {\n",
       "        vertical-align: top;\n",
       "    }\n",
       "\n",
       "    .dataframe thead th {\n",
       "        text-align: right;\n",
       "    }\n",
       "</style>\n",
       "<table border=\"1\" class=\"dataframe\">\n",
       "  <thead>\n",
       "    <tr style=\"text-align: right;\">\n",
       "      <th></th>\n",
       "      <th>text</th>\n",
       "      <th>target</th>\n",
       "    </tr>\n",
       "  </thead>\n",
       "  <tbody>\n",
       "    <tr>\n",
       "      <th>0</th>\n",
       "      <td>awww that s a bummer you shoulda got david car...</td>\n",
       "      <td>0</td>\n",
       "    </tr>\n",
       "    <tr>\n",
       "      <th>1</th>\n",
       "      <td>is upset that he can t update his facebook by ...</td>\n",
       "      <td>0</td>\n",
       "    </tr>\n",
       "    <tr>\n",
       "      <th>2</th>\n",
       "      <td>i dived many times for the ball managed to sav...</td>\n",
       "      <td>0</td>\n",
       "    </tr>\n",
       "    <tr>\n",
       "      <th>3</th>\n",
       "      <td>my whole body feels itchy and like its on fire</td>\n",
       "      <td>0</td>\n",
       "    </tr>\n",
       "    <tr>\n",
       "      <th>4</th>\n",
       "      <td>no it s not behaving at all i m mad why am i h...</td>\n",
       "      <td>0</td>\n",
       "    </tr>\n",
       "  </tbody>\n",
       "</table>\n",
       "</div>"
      ],
      "text/plain": [
       "                                                text  target\n",
       "0  awww that s a bummer you shoulda got david car...       0\n",
       "1  is upset that he can t update his facebook by ...       0\n",
       "2  i dived many times for the ball managed to sav...       0\n",
       "3     my whole body feels itchy and like its on fire       0\n",
       "4  no it s not behaving at all i m mad why am i h...       0"
      ]
     },
     "execution_count": 3,
     "metadata": {},
     "output_type": "execute_result"
    }
   ],
   "source": [
    "# Melihat 5 baris pertama dari dataset clean_tweet.csv\n",
    "data.head()"
   ]
  },
  {
   "cell_type": "code",
   "execution_count": 4,
   "metadata": {},
   "outputs": [
    {
     "data": {
      "text/html": [
       "<div>\n",
       "<style scoped>\n",
       "    .dataframe tbody tr th:only-of-type {\n",
       "        vertical-align: middle;\n",
       "    }\n",
       "\n",
       "    .dataframe tbody tr th {\n",
       "        vertical-align: top;\n",
       "    }\n",
       "\n",
       "    .dataframe thead th {\n",
       "        text-align: right;\n",
       "    }\n",
       "</style>\n",
       "<table border=\"1\" class=\"dataframe\">\n",
       "  <thead>\n",
       "    <tr style=\"text-align: right;\">\n",
       "      <th></th>\n",
       "      <th>text</th>\n",
       "      <th>target</th>\n",
       "    </tr>\n",
       "  </thead>\n",
       "  <tbody>\n",
       "    <tr>\n",
       "      <th>1599995</th>\n",
       "      <td>just woke up having no school is the best feel...</td>\n",
       "      <td>1</td>\n",
       "    </tr>\n",
       "    <tr>\n",
       "      <th>1599996</th>\n",
       "      <td>thewdb com very cool to hear old walt intervie...</td>\n",
       "      <td>1</td>\n",
       "    </tr>\n",
       "    <tr>\n",
       "      <th>1599997</th>\n",
       "      <td>are you ready for your mojo makeover ask me fo...</td>\n",
       "      <td>1</td>\n",
       "    </tr>\n",
       "    <tr>\n",
       "      <th>1599998</th>\n",
       "      <td>happy th birthday to my boo of alll time tupac...</td>\n",
       "      <td>1</td>\n",
       "    </tr>\n",
       "    <tr>\n",
       "      <th>1599999</th>\n",
       "      <td>happy charitytuesday</td>\n",
       "      <td>1</td>\n",
       "    </tr>\n",
       "  </tbody>\n",
       "</table>\n",
       "</div>"
      ],
      "text/plain": [
       "                                                      text  target\n",
       "1599995  just woke up having no school is the best feel...       1\n",
       "1599996  thewdb com very cool to hear old walt intervie...       1\n",
       "1599997  are you ready for your mojo makeover ask me fo...       1\n",
       "1599998  happy th birthday to my boo of alll time tupac...       1\n",
       "1599999                               happy charitytuesday       1"
      ]
     },
     "execution_count": 4,
     "metadata": {},
     "output_type": "execute_result"
    }
   ],
   "source": [
    "# Melihat 5 baris pertama dari dataset clean_tweet.csv\n",
    "data.tail()"
   ]
  },
  {
   "cell_type": "markdown",
   "metadata": {},
   "source": [
    "> Dari dataset tersebut terlihat bahwa terdapat 2 features yang ada pada dataset tersebut, yaitu text dan target. Dimana text merepresentasikan kalimat tweet dari setiap pengguna twitter. Sementara target adalah sentiment yang dihasilkan dari setiap tweet pengguna apakah itu negatif (target = 0) ataukah positif (target = 1)."
   ]
  },
  {
   "cell_type": "markdown",
   "metadata": {},
   "source": [
    "### Dimensi dataset"
   ]
  },
  {
   "cell_type": "code",
   "execution_count": 5,
   "metadata": {},
   "outputs": [
    {
     "data": {
      "text/plain": [
       "(1600000, 2)"
      ]
     },
     "execution_count": 5,
     "metadata": {},
     "output_type": "execute_result"
    }
   ],
   "source": [
    "# Dimensi dari dataset clean_tweet.csv\n",
    "data.shape"
   ]
  },
  {
   "cell_type": "markdown",
   "metadata": {},
   "source": [
    "> Pada dataset clean_tweet.csv terdapat data 1.600.000 data tweet dalam bentuk text/string/object serta klasifikasi sentiment dari masing-masing tweet."
   ]
  },
  {
   "cell_type": "markdown",
   "metadata": {},
   "source": [
    "### Deteksi Missing Values"
   ]
  },
  {
   "cell_type": "code",
   "execution_count": 6,
   "metadata": {},
   "outputs": [
    {
     "name": "stdout",
     "output_type": "stream",
     "text": [
      "<class 'pandas.core.frame.DataFrame'>\n",
      "RangeIndex: 1600000 entries, 0 to 1599999\n",
      "Data columns (total 2 columns):\n",
      "text      1596753 non-null object\n",
      "target    1600000 non-null int64\n",
      "dtypes: int64(1), object(1)\n",
      "memory usage: 24.4+ MB\n"
     ]
    }
   ],
   "source": [
    "# Tipe data pada clean_tweet.csv\n",
    "data.info()"
   ]
  },
  {
   "cell_type": "code",
   "execution_count": 7,
   "metadata": {},
   "outputs": [
    {
     "data": {
      "text/plain": [
       "text      3247\n",
       "target       0\n",
       "dtype: int64"
      ]
     },
     "execution_count": 7,
     "metadata": {},
     "output_type": "execute_result"
    }
   ],
   "source": [
    "# Deteksi missing value\n",
    "missing = data.isnull().sum().sort_values(ascending = False)\n",
    "missing"
   ]
  },
  {
   "cell_type": "code",
   "execution_count": 8,
   "metadata": {},
   "outputs": [
    {
     "data": {
      "text/plain": [
       "text      0.2\n",
       "target    0.0\n",
       "dtype: float64"
      ]
     },
     "execution_count": 8,
     "metadata": {},
     "output_type": "execute_result"
    }
   ],
   "source": [
    "# Deteksi missing value (dalam %)\n",
    "pct_missing = round(data.isnull().sum()/len(data)*100,2).sort_values(ascending = False)\n",
    "pct_missing"
   ]
  },
  {
   "cell_type": "markdown",
   "metadata": {},
   "source": [
    "> Dari dataset tersebut terdapat 0.2% missing values yang senilai dengan 3.247 row data. Sehingga untuk melakukan analisis ke tahap selanjutnya perlu dihapuskan untuk tidak digunakan pada analisis."
   ]
  },
  {
   "cell_type": "markdown",
   "metadata": {},
   "source": [
    "### Remove Missing Values"
   ]
  },
  {
   "cell_type": "code",
   "execution_count": 36,
   "metadata": {},
   "outputs": [],
   "source": [
    "# Remove missing value\n",
    "df = data.dropna()"
   ]
  },
  {
   "cell_type": "code",
   "execution_count": 37,
   "metadata": {},
   "outputs": [
    {
     "data": {
      "text/html": [
       "<div>\n",
       "<style scoped>\n",
       "    .dataframe tbody tr th:only-of-type {\n",
       "        vertical-align: middle;\n",
       "    }\n",
       "\n",
       "    .dataframe tbody tr th {\n",
       "        vertical-align: top;\n",
       "    }\n",
       "\n",
       "    .dataframe thead th {\n",
       "        text-align: right;\n",
       "    }\n",
       "</style>\n",
       "<table border=\"1\" class=\"dataframe\">\n",
       "  <thead>\n",
       "    <tr style=\"text-align: right;\">\n",
       "      <th></th>\n",
       "      <th>text</th>\n",
       "      <th>target</th>\n",
       "    </tr>\n",
       "  </thead>\n",
       "  <tbody>\n",
       "    <tr>\n",
       "      <th>0</th>\n",
       "      <td>awww that s a bummer you shoulda got david car...</td>\n",
       "      <td>0</td>\n",
       "    </tr>\n",
       "    <tr>\n",
       "      <th>1</th>\n",
       "      <td>is upset that he can t update his facebook by ...</td>\n",
       "      <td>0</td>\n",
       "    </tr>\n",
       "    <tr>\n",
       "      <th>2</th>\n",
       "      <td>i dived many times for the ball managed to sav...</td>\n",
       "      <td>0</td>\n",
       "    </tr>\n",
       "    <tr>\n",
       "      <th>3</th>\n",
       "      <td>my whole body feels itchy and like its on fire</td>\n",
       "      <td>0</td>\n",
       "    </tr>\n",
       "    <tr>\n",
       "      <th>4</th>\n",
       "      <td>no it s not behaving at all i m mad why am i h...</td>\n",
       "      <td>0</td>\n",
       "    </tr>\n",
       "  </tbody>\n",
       "</table>\n",
       "</div>"
      ],
      "text/plain": [
       "                                                text  target\n",
       "0  awww that s a bummer you shoulda got david car...       0\n",
       "1  is upset that he can t update his facebook by ...       0\n",
       "2  i dived many times for the ball managed to sav...       0\n",
       "3     my whole body feels itchy and like its on fire       0\n",
       "4  no it s not behaving at all i m mad why am i h...       0"
      ]
     },
     "execution_count": 37,
     "metadata": {},
     "output_type": "execute_result"
    }
   ],
   "source": [
    "# Menampilkan 5 baris pertama dari dataset\n",
    "df.head()"
   ]
  },
  {
   "cell_type": "code",
   "execution_count": 38,
   "metadata": {},
   "outputs": [
    {
     "data": {
      "text/html": [
       "<div>\n",
       "<style scoped>\n",
       "    .dataframe tbody tr th:only-of-type {\n",
       "        vertical-align: middle;\n",
       "    }\n",
       "\n",
       "    .dataframe tbody tr th {\n",
       "        vertical-align: top;\n",
       "    }\n",
       "\n",
       "    .dataframe thead th {\n",
       "        text-align: right;\n",
       "    }\n",
       "</style>\n",
       "<table border=\"1\" class=\"dataframe\">\n",
       "  <thead>\n",
       "    <tr style=\"text-align: right;\">\n",
       "      <th></th>\n",
       "      <th>text</th>\n",
       "      <th>target</th>\n",
       "    </tr>\n",
       "  </thead>\n",
       "  <tbody>\n",
       "    <tr>\n",
       "      <th>1599995</th>\n",
       "      <td>just woke up having no school is the best feel...</td>\n",
       "      <td>1</td>\n",
       "    </tr>\n",
       "    <tr>\n",
       "      <th>1599996</th>\n",
       "      <td>thewdb com very cool to hear old walt intervie...</td>\n",
       "      <td>1</td>\n",
       "    </tr>\n",
       "    <tr>\n",
       "      <th>1599997</th>\n",
       "      <td>are you ready for your mojo makeover ask me fo...</td>\n",
       "      <td>1</td>\n",
       "    </tr>\n",
       "    <tr>\n",
       "      <th>1599998</th>\n",
       "      <td>happy th birthday to my boo of alll time tupac...</td>\n",
       "      <td>1</td>\n",
       "    </tr>\n",
       "    <tr>\n",
       "      <th>1599999</th>\n",
       "      <td>happy charitytuesday</td>\n",
       "      <td>1</td>\n",
       "    </tr>\n",
       "  </tbody>\n",
       "</table>\n",
       "</div>"
      ],
      "text/plain": [
       "                                                      text  target\n",
       "1599995  just woke up having no school is the best feel...       1\n",
       "1599996  thewdb com very cool to hear old walt intervie...       1\n",
       "1599997  are you ready for your mojo makeover ask me fo...       1\n",
       "1599998  happy th birthday to my boo of alll time tupac...       1\n",
       "1599999                               happy charitytuesday       1"
      ]
     },
     "execution_count": 38,
     "metadata": {},
     "output_type": "execute_result"
    }
   ],
   "source": [
    "# Menampilkan 5 baris terakhir dari dataset\n",
    "df.tail()"
   ]
  },
  {
   "cell_type": "code",
   "execution_count": 39,
   "metadata": {},
   "outputs": [
    {
     "data": {
      "text/plain": [
       "target    0\n",
       "text      0\n",
       "dtype: int64"
      ]
     },
     "execution_count": 39,
     "metadata": {},
     "output_type": "execute_result"
    }
   ],
   "source": [
    "# Deteksi missing value\n",
    "missing = df.isnull().sum().sort_values(ascending = False)\n",
    "missing"
   ]
  },
  {
   "cell_type": "code",
   "execution_count": 40,
   "metadata": {},
   "outputs": [
    {
     "data": {
      "text/plain": [
       "(1596753, 2)"
      ]
     },
     "execution_count": 40,
     "metadata": {},
     "output_type": "execute_result"
    }
   ],
   "source": [
    "df.shape"
   ]
  },
  {
   "cell_type": "markdown",
   "metadata": {},
   "source": [
    "> Dikarenakan adanya missing values maka perlu dilakukan remove missing values. Kemudian setelah dilakukan penghapusan missing values dilakukan pengecekan kembali apakah missing values sudah benar-benar dihapuskan atau belum. Dari code di atas dapat dilihat bahwa 0.2% missing values sudah berhasil dihapuskan. Sehingga saat ini akan digunakan sejumlah 1.596.753 row data."
   ]
  },
  {
   "cell_type": "markdown",
   "metadata": {},
   "source": [
    "## A. Basic Text Pre-processing"
   ]
  },
  {
   "cell_type": "markdown",
   "metadata": {},
   "source": [
    "### 1. Lower casing\n",
    "Mengubah seluruh karakter pada features yang ditentukan menjadi lower casing (huruf kecil) seluruhnya agar mudah dideteksi oleh sistem pada saat melakukan analisis."
   ]
  },
  {
   "cell_type": "code",
   "execution_count": 44,
   "metadata": {},
   "outputs": [
    {
     "name": "stderr",
     "output_type": "stream",
     "text": [
      "C:\\Users\\tararo064184\\AppData\\Local\\Continuum\\anaconda3\\lib\\site-packages\\ipykernel_launcher.py:3: SettingWithCopyWarning: \n",
      "A value is trying to be set on a copy of a slice from a DataFrame.\n",
      "Try using .loc[row_indexer,col_indexer] = value instead\n",
      "\n",
      "See the caveats in the documentation: http://pandas.pydata.org/pandas-docs/stable/indexing.html#indexing-view-versus-copy\n",
      "  This is separate from the ipykernel package so we can avoid doing imports until\n"
     ]
    },
    {
     "data": {
      "text/plain": [
       "0    awww that s a bummer you shoulda got david car...\n",
       "1    is upset that he can t update his facebook by ...\n",
       "2    i dived many times for the ball managed to sav...\n",
       "3       my whole body feels itchy and like its on fire\n",
       "4    no it s not behaving at all i m mad why am i h...\n",
       "Name: text, dtype: object"
      ]
     },
     "execution_count": 44,
     "metadata": {},
     "output_type": "execute_result"
    }
   ],
   "source": [
    "# Mengubah karakter pada features text yang berupa kalimat tweet\n",
    "# Menjadi huruf kecil (lower casing) seluruhnya\n",
    "df['text'] = df['text'].apply(lambda x: ' '.join(x.lower() for x in x.split()))\n",
    "\n",
    "# Menampilkan 5 baris pertama pada features tweet\n",
    "# Setelah seluruh karakter diubah menjadi huruf kecil (lower casing)\n",
    "df['text'].head()"
   ]
  },
  {
   "cell_type": "markdown",
   "metadata": {},
   "source": [
    "### 2. Punctuation Removal\n",
    "Menghapuskan tanda baca yang terdapat pada masing-masing row tweet sebab saat melakukan analisis tanda baca tersebut tidak akan digunakan."
   ]
  },
  {
   "cell_type": "code",
   "execution_count": 16,
   "metadata": {},
   "outputs": [
    {
     "name": "stderr",
     "output_type": "stream",
     "text": [
      "C:\\Users\\tararo064184\\AppData\\Local\\Continuum\\anaconda3\\lib\\site-packages\\ipykernel_launcher.py:2: SettingWithCopyWarning: \n",
      "A value is trying to be set on a copy of a slice from a DataFrame.\n",
      "Try using .loc[row_indexer,col_indexer] = value instead\n",
      "\n",
      "See the caveats in the documentation: http://pandas.pydata.org/pandas-docs/stable/indexing.html#indexing-view-versus-copy\n",
      "  \n"
     ]
    },
    {
     "data": {
      "text/html": [
       "<div>\n",
       "<style scoped>\n",
       "    .dataframe tbody tr th:only-of-type {\n",
       "        vertical-align: middle;\n",
       "    }\n",
       "\n",
       "    .dataframe tbody tr th {\n",
       "        vertical-align: top;\n",
       "    }\n",
       "\n",
       "    .dataframe thead th {\n",
       "        text-align: right;\n",
       "    }\n",
       "</style>\n",
       "<table border=\"1\" class=\"dataframe\">\n",
       "  <thead>\n",
       "    <tr style=\"text-align: right;\">\n",
       "      <th></th>\n",
       "      <th>text</th>\n",
       "      <th>target</th>\n",
       "    </tr>\n",
       "  </thead>\n",
       "  <tbody>\n",
       "    <tr>\n",
       "      <th>128244</th>\n",
       "      <td>is pissed my husband is not working today he s...</td>\n",
       "      <td>0</td>\n",
       "    </tr>\n",
       "    <tr>\n",
       "      <th>492674</th>\n",
       "      <td>i m down to only you win</td>\n",
       "      <td>0</td>\n",
       "    </tr>\n",
       "    <tr>\n",
       "      <th>471809</th>\n",
       "      <td>i just ate my dinner and i feel rather hungry now</td>\n",
       "      <td>0</td>\n",
       "    </tr>\n",
       "    <tr>\n",
       "      <th>492181</th>\n",
       "      <td>green with envy here</td>\n",
       "      <td>0</td>\n",
       "    </tr>\n",
       "    <tr>\n",
       "      <th>838057</th>\n",
       "      <td>i want to see it tell me more about the plot o...</td>\n",
       "      <td>1</td>\n",
       "    </tr>\n",
       "  </tbody>\n",
       "</table>\n",
       "</div>"
      ],
      "text/plain": [
       "                                                     text  target\n",
       "128244  is pissed my husband is not working today he s...       0\n",
       "492674                           i m down to only you win       0\n",
       "471809  i just ate my dinner and i feel rather hungry now       0\n",
       "492181                               green with envy here       0\n",
       "838057  i want to see it tell me more about the plot o...       1"
      ]
     },
     "execution_count": 16,
     "metadata": {},
     "output_type": "execute_result"
    }
   ],
   "source": [
    "# Menghapuskan tanda baca yang ada pada kalimat tweet\n",
    "df['text'] = df['text'].str.replace('[^\\w\\s]','')\n",
    "\n",
    "# Menampilkan 5 baris pertama pada features tweet\n",
    "# Setelah seluruh tanda baca dihapuskan \n",
    "df_new.head()"
   ]
  },
  {
   "cell_type": "markdown",
   "metadata": {},
   "source": [
    "### 3. Stopwords Removal\n",
    "Menghapuskan kata imbuhan seperti \"the\", \"a\", \"an\", \"in\", dll karena kata imbuhan tersebut tidak akan memiliki makna sentimen apapun baik positif maupun negatif. Untuk melihat lebih detail stopwords apa saja yang terdapat pada bahasa inggris (english) sebagai berikut:"
   ]
  },
  {
   "cell_type": "code",
   "execution_count": 17,
   "metadata": {},
   "outputs": [
    {
     "name": "stderr",
     "output_type": "stream",
     "text": [
      "C:\\Users\\tararo064184\\AppData\\Local\\Continuum\\anaconda3\\lib\\site-packages\\ipykernel_launcher.py:6: SettingWithCopyWarning: \n",
      "A value is trying to be set on a copy of a slice from a DataFrame.\n",
      "Try using .loc[row_indexer,col_indexer] = value instead\n",
      "\n",
      "See the caveats in the documentation: http://pandas.pydata.org/pandas-docs/stable/indexing.html#indexing-view-versus-copy\n",
      "  \n"
     ]
    },
    {
     "data": {
      "text/plain": [
       "0         awww bummer shoulda got david carr third day\n",
       "1    upset update facebook texting might cry result...\n",
       "2    dived many times ball managed save rest go bounds\n",
       "3                     whole body feels itchy like fire\n",
       "4                                     behaving mad see\n",
       "Name: text, dtype: object"
      ]
     },
     "execution_count": 17,
     "metadata": {},
     "output_type": "execute_result"
    }
   ],
   "source": [
    "# Menghimpun seluruh stopwords yang ada pada bahasa inggris (english)\n",
    "stop = stopwords.words('english')\n",
    "\n",
    "# Menghapuskan stopwords yang ada pada masing-masing row tweet\n",
    "# Sebab untuk melakukan analisis kata-kata tersebut tidak akan digunakan\n",
    "df['text'] = df['text'].apply(lambda x: ' '.join(x for x in x.split() if x not in stop))\n",
    "\n",
    "# Menampilkan 5 baris teratas dari dataframe\n",
    "df['text'].head()"
   ]
  },
  {
   "cell_type": "markdown",
   "metadata": {},
   "source": [
    "### 4. Spelling Correction\n",
    "Memperbaiki ejaan pada masing-masing kata pada row tweet agar kata-kata yang digunakan seragam dan mudah dikelompokkan pada masing-masing sentimen baik positif maupun negatif."
   ]
  },
  {
   "cell_type": "code",
   "execution_count": 18,
   "metadata": {},
   "outputs": [
    {
     "data": {
      "text/plain": [
       "0           www summer should got david care third day\n",
       "1    upset update facebook testing might cry result...\n",
       "2    dived many times ball managed save rest go bounds\n",
       "3                     whole body feels itchy like fire\n",
       "4                                     behaving mad see\n",
       "Name: text, dtype: object"
      ]
     },
     "execution_count": 18,
     "metadata": {},
     "output_type": "execute_result"
    }
   ],
   "source": [
    "# Membenarkan ejaan pada setiap kata yang terletak pada seluruh row tweet\n",
    "# Dengan contoh 5 row data teratas (index 0 - 4)\n",
    "df['text'][:5].apply(lambda x: str(TextBlob(x).correct()))"
   ]
  },
  {
   "cell_type": "markdown",
   "metadata": {},
   "source": [
    "### 5. Tokenization\n",
    "Proses split kalimat menjadi kata, frase, ataupun bentuk lainnya yang memiliki makna. Hasil tokenisasi disebut sebagai **token**. Tentunya split kalimat menjadi beberapa bagian baik dalam bentuk kata ataupun fase akan memberikan makna agar memiliki nilai untuk menentukan sentimen pada setiap tweet yang ada."
   ]
  },
  {
   "cell_type": "code",
   "execution_count": 19,
   "metadata": {},
   "outputs": [
    {
     "data": {
      "text/plain": [
       "WordList(['upset', 'update', 'facebook', 'texting', 'might', 'cry', 'result', 'school', 'today', 'also', 'blah'])"
      ]
     },
     "execution_count": 19,
     "metadata": {},
     "output_type": "execute_result"
    }
   ],
   "source": [
    "# Proses tokenisasi untuk setiap row pada dataset\n",
    "# Contoh dengan menggunakan row data ke 128244 hasil dari random sampling\n",
    "TextBlob(df['text'][1]).words"
   ]
  },
  {
   "cell_type": "markdown",
   "metadata": {},
   "source": [
    "### 6. Stemming\n",
    "Mengubah seluruh kata berimbuhan kedalam kata dasarnya. Contohnya untuk kata program, programs, programer, programing, programers menjadi kata program."
   ]
  },
  {
   "cell_type": "code",
   "execution_count": 20,
   "metadata": {},
   "outputs": [],
   "source": [
    "# Menghimpun seluruh kata dasar pada bahasa inggris (english)\n",
    "stemm = PorterStemmer()"
   ]
  },
  {
   "cell_type": "code",
   "execution_count": 21,
   "metadata": {},
   "outputs": [
    {
     "name": "stderr",
     "output_type": "stream",
     "text": [
      "C:\\Users\\tararo064184\\AppData\\Local\\Continuum\\anaconda3\\lib\\site-packages\\ipykernel_launcher.py:3: SettingWithCopyWarning: \n",
      "A value is trying to be set on a copy of a slice from a DataFrame.\n",
      "Try using .loc[row_indexer,col_indexer] = value instead\n",
      "\n",
      "See the caveats in the documentation: http://pandas.pydata.org/pandas-docs/stable/indexing.html#indexing-view-versus-copy\n",
      "  This is separate from the ipykernel package so we can avoid doing imports until\n"
     ]
    },
    {
     "data": {
      "text/plain": [
       "0         awww bummer shoulda got david carr third day\n",
       "1    upset updat facebook text might cri result sch...\n",
       "2         dive mani time ball manag save rest go bound\n",
       "3                      whole bodi feel itchi like fire\n",
       "4                                        behav mad see\n",
       "Name: text, dtype: object"
      ]
     },
     "execution_count": 21,
     "metadata": {},
     "output_type": "execute_result"
    }
   ],
   "source": [
    "# Proses extract kata-kata berimbuhan menjadi kata dasar\n",
    "# Mengambil sampel 5 row data teratas (index 0 - 4)\n",
    "df['text'] = df['text'][:5].apply(lambda x: \" \".join([stemm.stem(word) for word in x.split()]))\n",
    "\n",
    "# Menampilkan 5 baris pertama pada dataset\n",
    "df['text'].head()"
   ]
  },
  {
   "cell_type": "markdown",
   "metadata": {},
   "source": [
    "## B. Data Preparation"
   ]
  },
  {
   "cell_type": "markdown",
   "metadata": {},
   "source": [
    "### 1. Rename Target Value\n",
    "Nilai pada feature target akan direplace dengan string agar visualisasi yang dihasilkan lebih mudah untuk dibaca. Dimana target yang tertera memiliki makna:\n",
    "- Target 0 : Negative Sentiment\n",
    "- Target 1 : Positive Sentiment"
   ]
  },
  {
   "cell_type": "code",
   "execution_count": 50,
   "metadata": {},
   "outputs": [
    {
     "name": "stderr",
     "output_type": "stream",
     "text": [
      "C:\\Users\\tararo064184\\AppData\\Local\\Continuum\\anaconda3\\lib\\site-packages\\ipykernel_launcher.py:4: SettingWithCopyWarning: \n",
      "A value is trying to be set on a copy of a slice from a DataFrame.\n",
      "Try using .loc[row_indexer,col_indexer] = value instead\n",
      "\n",
      "See the caveats in the documentation: http://pandas.pydata.org/pandas-docs/stable/indexing.html#indexing-view-versus-copy\n",
      "  after removing the cwd from sys.path.\n"
     ]
    }
   ],
   "source": [
    "# Rename target value\n",
    "# Target = 0 : Negative\n",
    "# Target = 1 : Positive\n",
    "df['target'] = df['target'].replace({0 :'Negative', 1 : 'Positive'})"
   ]
  },
  {
   "cell_type": "code",
   "execution_count": 51,
   "metadata": {},
   "outputs": [
    {
     "data": {
      "text/html": [
       "<div>\n",
       "<style scoped>\n",
       "    .dataframe tbody tr th:only-of-type {\n",
       "        vertical-align: middle;\n",
       "    }\n",
       "\n",
       "    .dataframe tbody tr th {\n",
       "        vertical-align: top;\n",
       "    }\n",
       "\n",
       "    .dataframe thead th {\n",
       "        text-align: right;\n",
       "    }\n",
       "</style>\n",
       "<table border=\"1\" class=\"dataframe\">\n",
       "  <thead>\n",
       "    <tr style=\"text-align: right;\">\n",
       "      <th></th>\n",
       "      <th>text</th>\n",
       "      <th>target</th>\n",
       "    </tr>\n",
       "  </thead>\n",
       "  <tbody>\n",
       "    <tr>\n",
       "      <th>0</th>\n",
       "      <td>awww that s a bummer you shoulda got david car...</td>\n",
       "      <td>Negative</td>\n",
       "    </tr>\n",
       "    <tr>\n",
       "      <th>1</th>\n",
       "      <td>is upset that he can t update his facebook by ...</td>\n",
       "      <td>Negative</td>\n",
       "    </tr>\n",
       "    <tr>\n",
       "      <th>2</th>\n",
       "      <td>i dived many times for the ball managed to sav...</td>\n",
       "      <td>Negative</td>\n",
       "    </tr>\n",
       "    <tr>\n",
       "      <th>3</th>\n",
       "      <td>my whole body feels itchy and like its on fire</td>\n",
       "      <td>Negative</td>\n",
       "    </tr>\n",
       "    <tr>\n",
       "      <th>4</th>\n",
       "      <td>no it s not behaving at all i m mad why am i h...</td>\n",
       "      <td>Negative</td>\n",
       "    </tr>\n",
       "  </tbody>\n",
       "</table>\n",
       "</div>"
      ],
      "text/plain": [
       "                                                text    target\n",
       "0  awww that s a bummer you shoulda got david car...  Negative\n",
       "1  is upset that he can t update his facebook by ...  Negative\n",
       "2  i dived many times for the ball managed to sav...  Negative\n",
       "3     my whole body feels itchy and like its on fire  Negative\n",
       "4  no it s not behaving at all i m mad why am i h...  Negative"
      ]
     },
     "execution_count": 51,
     "metadata": {},
     "output_type": "execute_result"
    }
   ],
   "source": [
    "# Menampilkan 5 row teratas dari dataset\n",
    "# Setelah value pada target di rename menjadi negative dan positive sentimen\n",
    "df.head()"
   ]
  },
  {
   "cell_type": "markdown",
   "metadata": {},
   "source": [
    "> Dari dataframe di atas terlihat bahwa nilai dari target sudah berubah menjadi Negative (target = 0) dan Positive (target = 1). Hal ini tentunya akan mempermudah dalam membiat visualisasi data sehingga dapat dengan mudah dibaca."
   ]
  },
  {
   "cell_type": "markdown",
   "metadata": {},
   "source": [
    "### 1. Random Sampling\n",
    "Random sampling ini dilakukan untuk memudahkan running program. Sebab ketika menggunakan seluruh data proses running script sangat lama."
   ]
  },
  {
   "cell_type": "code",
   "execution_count": 52,
   "metadata": {},
   "outputs": [
    {
     "data": {
      "text/html": [
       "<div>\n",
       "<style scoped>\n",
       "    .dataframe tbody tr th:only-of-type {\n",
       "        vertical-align: middle;\n",
       "    }\n",
       "\n",
       "    .dataframe tbody tr th {\n",
       "        vertical-align: top;\n",
       "    }\n",
       "\n",
       "    .dataframe thead th {\n",
       "        text-align: right;\n",
       "    }\n",
       "</style>\n",
       "<table border=\"1\" class=\"dataframe\">\n",
       "  <thead>\n",
       "    <tr style=\"text-align: right;\">\n",
       "      <th></th>\n",
       "      <th>text</th>\n",
       "      <th>target</th>\n",
       "    </tr>\n",
       "  </thead>\n",
       "  <tbody>\n",
       "    <tr>\n",
       "      <th>128244</th>\n",
       "      <td>is pissed my husband is not working today he s...</td>\n",
       "      <td>Negative</td>\n",
       "    </tr>\n",
       "    <tr>\n",
       "      <th>492674</th>\n",
       "      <td>i m down to only you win</td>\n",
       "      <td>Negative</td>\n",
       "    </tr>\n",
       "    <tr>\n",
       "      <th>471809</th>\n",
       "      <td>i just ate my dinner and i feel rather hungry now</td>\n",
       "      <td>Negative</td>\n",
       "    </tr>\n",
       "    <tr>\n",
       "      <th>492181</th>\n",
       "      <td>green with envy here</td>\n",
       "      <td>Negative</td>\n",
       "    </tr>\n",
       "    <tr>\n",
       "      <th>838057</th>\n",
       "      <td>i want to see it tell me more about the plot o...</td>\n",
       "      <td>Positive</td>\n",
       "    </tr>\n",
       "  </tbody>\n",
       "</table>\n",
       "</div>"
      ],
      "text/plain": [
       "                                                     text    target\n",
       "128244  is pissed my husband is not working today he s...  Negative\n",
       "492674                           i m down to only you win  Negative\n",
       "471809  i just ate my dinner and i feel rather hungry now  Negative\n",
       "492181                               green with envy here  Negative\n",
       "838057  i want to see it tell me more about the plot o...  Positive"
      ]
     },
     "execution_count": 52,
     "metadata": {},
     "output_type": "execute_result"
    }
   ],
   "source": [
    "# Random sampling dari dataset sebanyak 100000 data\n",
    "df_new = df.sample(n = 100000, replace=True, random_state=1)\n",
    "\n",
    "# Menampilkan 5 row teratas dari dataset\n",
    "df_new.head()"
   ]
  },
  {
   "cell_type": "markdown",
   "metadata": {},
   "source": [
    "> Dari dataset awal dibuat random sampling yang kemudian sampel tersebut digunakan untuk melakukan classification analisis. Alasan dilakukannya sampling adalah untuk mengambil sebagian data saja supaya kinerja sistem untuk memodelkan data tersebut lebih cepat dan tidak memberatkan. Sebab data awal sejumlah 1.600.000 data sehingga akan sangat lama dalam membuat model. Kemudian dilakukan secara random dengan alasan agar sampel yang diambil dapat merepresentasikan dari data awal dan tidak condong ke suatu sudut pandang ataupun sentimen."
   ]
  },
  {
   "cell_type": "markdown",
   "metadata": {},
   "source": [
    "### 2. Data Exploration\n",
    "Dengan data exploration akan dilihat proporsi dari masing-masing target pada sampel data"
   ]
  },
  {
   "cell_type": "code",
   "execution_count": 78,
   "metadata": {},
   "outputs": [
    {
     "data": {
      "text/html": [
       "<div>\n",
       "<style scoped>\n",
       "    .dataframe tbody tr th:only-of-type {\n",
       "        vertical-align: middle;\n",
       "    }\n",
       "\n",
       "    .dataframe tbody tr th {\n",
       "        vertical-align: top;\n",
       "    }\n",
       "\n",
       "    .dataframe thead th {\n",
       "        text-align: right;\n",
       "    }\n",
       "</style>\n",
       "<table border=\"1\" class=\"dataframe\">\n",
       "  <thead>\n",
       "    <tr style=\"text-align: right;\">\n",
       "      <th></th>\n",
       "      <th>target</th>\n",
       "      <th>tweet_count</th>\n",
       "      <th>percent</th>\n",
       "    </tr>\n",
       "  </thead>\n",
       "  <tbody>\n",
       "    <tr>\n",
       "      <th>0</th>\n",
       "      <td>Negative</td>\n",
       "      <td>49810</td>\n",
       "      <td>0.4981</td>\n",
       "    </tr>\n",
       "    <tr>\n",
       "      <th>1</th>\n",
       "      <td>Positive</td>\n",
       "      <td>50190</td>\n",
       "      <td>0.5019</td>\n",
       "    </tr>\n",
       "  </tbody>\n",
       "</table>\n",
       "</div>"
      ],
      "text/plain": [
       "     target  tweet_count  percent\n",
       "0  Negative        49810   0.4981\n",
       "1  Positive        50190   0.5019"
      ]
     },
     "execution_count": 78,
     "metadata": {},
     "output_type": "execute_result"
    }
   ],
   "source": [
    "#count sentiment \n",
    "sentiment = df_new.groupby(['target'])['target'].count()\n",
    "sentiment\n",
    "\n",
    "#make dataframe that will be created a chart \n",
    "chart = pd.DataFrame(sentiment)\n",
    "chart['tweet_count'] = chart['target']\n",
    "chart.drop(['target'], axis = 1, inplace = True )\n",
    "chart = chart.reset_index()\n",
    "\n",
    "#make a proportion of the number of tweet of each sentiment \n",
    "chart['percent'] = chart['tweet_count']/chart['tweet_count'].sum()\n",
    "chart"
   ]
  },
  {
   "cell_type": "markdown",
   "metadata": {},
   "source": [
    "> Dari dataframe di atas dapat diketahui bahwa proporsi dari sentimen negatif dan positif hampir sama. Dapat dikatakan bahwa proporsi keduanya 50:50. Dengan ini tentunya sampel yang diambil dapat dikatakan mampu merepresentasikan dari data awal."
   ]
  },
  {
   "cell_type": "markdown",
   "metadata": {},
   "source": [
    "### 3. Target Pie Chart\n",
    "Pie chart akan digunakan untuk melihat proporsi dari target/sentimen pada dataset."
   ]
  },
  {
   "cell_type": "code",
   "execution_count": 55,
   "metadata": {},
   "outputs": [
    {
     "data": {
      "text/plain": [
       "(-1.1264513948497268,\n",
       " 1.2444875195720748,\n",
       " -1.1264741383071688,\n",
       " 1.268865249517141)"
      ]
     },
     "execution_count": 55,
     "metadata": {},
     "output_type": "execute_result"
    },
    {
     "data": {
      "image/png": "[encoded data removed]",
      "text/plain": [
       "<Figure size 720x432 with 1 Axes>"
      ]
     },
     "metadata": {},
     "output_type": "display_data"
    }
   ],
   "source": [
    "# Warna yang akan digunakan pada target pie chart\n",
    "colors = ['pink','grey']\n",
    "\n",
    "# Hasil pie chart akan dipisahkan antar pie nya\n",
    "explode = (0, 0.2)\n",
    "\n",
    "# Plotting pie chart\n",
    "figure = plt.figure(figsize= (10,6))\n",
    "plt.pie(chart['tweet_count'],\n",
    "        explode = explode,\n",
    "        labels = chart['target'],\n",
    "        colors = colors,\n",
    "        autopct = '%1.1f%%',\n",
    "        shadow = True,\n",
    "        startangle = 140)\n",
    "plt.axis('equal')"
   ]
  },
  {
   "cell_type": "markdown",
   "metadata": {},
   "source": [
    "> Pie chart ini adalah gambaran lebih nyata (visualisasi) dari proporsi sentimen negatif dan juga sentimen positif."
   ]
  },
  {
   "cell_type": "markdown",
   "metadata": {},
   "source": [
    "### 4. Wordcloud"
   ]
  },
  {
   "cell_type": "code",
   "execution_count": 88,
   "metadata": {},
   "outputs": [
    {
     "data": {
      "image/png": "[encoded data removed]",
      "text/plain": [
       "<Figure size 720x720 with 1 Axes>"
      ]
     },
     "metadata": {
      "needs_background": "light"
     },
     "output_type": "display_data"
    }
   ],
   "source": [
    "# wordcloud dari negative sentiment\n",
    "negative = df_new[df_new['target']=='Negative']\n",
    "words = ' '.join(negative['text'])\n",
    "wordcloud = WordCloud(stopwords = STOPWORDS,\n",
    "                      background_color = 'white'\n",
    "                     ).generate(words)\n",
    "plt.figure(1,figsize=(10,10))\n",
    "plt.imshow(wordcloud)\n",
    "plt.axis('off')\n",
    "plt.show()"
   ]
  },
  {
   "cell_type": "markdown",
   "metadata": {},
   "source": [
    "> **Wordcloud Sentimen Negatif** <br>\n",
    "Dari wordcloud sentimen negatif di atas dapat dikatakan bahwa sentimen negatif tersebut rata-rata didominasi oleh keluh kesah pengguna twitter. Dimana dapat dilihat bahwa kata-kata yang dominan muncul pada sentimen negatif adalah\n",
    "- now\n",
    "- day\n",
    "- today\n",
    "- work\n",
    "- still, dst"
   ]
  },
  {
   "cell_type": "markdown",
   "metadata": {},
   "source": [
    "> Kata-kata tersebut tentunya dapat diprediksi bahwa sentimen negatif ini berisi keluh kesah pengguna twitter di hari itu juga (waktu mereka mwmbuat tweet) dan tentunya berisi aktivitas ataupun peristiwa kurang mengenakkan yang mereka alami di hari itu. Mayoritas keluh kesah yang mereka utarakan di twitter adalah seputar pekerjaan mereka. Setelah itu diikuti dengan keluh kesah seputar waktu (dalam hal ini bisa jadi waktu tunggu dst), serta seputar asmara pengguna twitter."
   ]
  },
  {
   "cell_type": "code",
   "execution_count": 58,
   "metadata": {},
   "outputs": [
    {
     "data": {
      "image/png": "[encoded data removed]",
      "text/plain": [
       "<Figure size 720x720 with 1 Axes>"
      ]
     },
     "metadata": {
      "needs_background": "light"
     },
     "output_type": "display_data"
    }
   ],
   "source": [
    "# wordcloud dari positive sentiment\n",
    "positive = df_new[df_new['target']=='Positive']\n",
    "words = ' '.join(positive['text'])\n",
    "wordcloud = WordCloud(stopwords = STOPWORDS,\n",
    "                      background_color = 'pink').generate(words)\n",
    "plt.figure(1,figsize=(10,10))\n",
    "plt.imshow(wordcloud)\n",
    "plt.axis('off')\n",
    "plt.show()"
   ]
  },
  {
   "cell_type": "markdown",
   "metadata": {},
   "source": [
    "> **Wordcloud Sentimen Positif** <br>\n",
    "Dari wordcloud sentimen positif di atas dapat dikatakan bahwa sentimen positif tersebut rata-rata didominasi oleh rasa syukur pengguna twitter seputar asmara mereka. Dimana dapat dilihat bahwa kata-kata yang dominan muncul pada sentimen positif adalah\n",
    "- thank\n",
    "- love\n",
    "- good\n",
    "- good\n",
    "- now, dst"
   ]
  },
  {
   "cell_type": "markdown",
   "metadata": {},
   "source": [
    "> Dari kata-kata yang dominan muncul pada sentimen positif tersebut tentunya dapat diprediksi bahwa mayoritas sentimen positif yang diberikan oleh pengguna twitter adalah rasa syukur mereka terhadap hal-hal yang terjadi di hari itu. Seperti hal-hal yang mampu membuat mereka bahagia di hari itu serta hal-hal yang menurut mereka lucu dan bisa membuat mereka tertawa. Hal tersebut dapat terlihat pada wordcloud sentimen positif dari sampel data yang digunakan."
   ]
  },
  {
   "cell_type": "markdown",
   "metadata": {},
   "source": [
    "## C. Feature Extraction\n",
    "- **Count Vectorizer** : Menghitung frekuensi dari unique word pada masing-masing row data dalam bentuk array. Dengan alur: dari dataset tersebut di-extract unique word dan disimpan dalam suatu array, kemudian membuat frekuensi dari masing-masing kata pada row data dalam bentuk array berdasarkan unique word.\n",
    "- **TF-IDF Transformer** : Serupa dengan Count Vectorizer namun dikalikan dengan nilai IDF Component.\n",
    "- **TF-IDF Vectorizer** : Kombinasi dari Count Vectorizer dan TF-IDF Transformer. Atau dengan mudahnya adalah proporsi dari frekuensi unique word yang muncul pada masing-masing row data.\n",
    "\n",
    "<br>\n",
    "Pada sentimen analisis ini akan digunakan nilai TF-IDF Vectorizer karena nilainya akan lebih representatif daripada Count Vectorizer. Sebab TF-IDF Vectorizer adalah proporsi frekuensi dari masing-masing unique word pada setiap row data. Sementara Count Vectorizer hanya frekuensi dari unique word pada masing-masing row data."
   ]
  },
  {
   "cell_type": "code",
   "execution_count": 60,
   "metadata": {},
   "outputs": [],
   "source": [
    "# TF-IDF Vectorizer\n",
    "tfidf = TfidfVectorizer(stop_words='english')"
   ]
  },
  {
   "cell_type": "markdown",
   "metadata": {},
   "source": [
    "## D. Modelling\n",
    "Selanjutnya akan dibuat model yang mampu merepresentasikan dataset pengguna twitter."
   ]
  },
  {
   "cell_type": "markdown",
   "metadata": {},
   "source": [
    "### 1. Train Test Split"
   ]
  },
  {
   "cell_type": "code",
   "execution_count": 62,
   "metadata": {},
   "outputs": [],
   "source": [
    "# Definisikan X dan y untuk melakukan analisis\n",
    "\n",
    "# X didapat dari value pada feature text yang berupa tweet pengguna twitter\n",
    "X = df_new['text']\n",
    "\n",
    "# y didapat dari value pada feature target yang berupa nilai/sentimen dari masing-masing row tweet pengguna twitter\n",
    "y = df_new['target']"
   ]
  },
  {
   "cell_type": "code",
   "execution_count": 63,
   "metadata": {},
   "outputs": [],
   "source": [
    "# countvectorizer\n",
    "X_vectorizer = count_vectorizer.fit_transform(X)\n",
    "\n",
    "# tfidf vectorizer\n",
    "X_tfidf = tfidf.fit_transform(X)"
   ]
  },
  {
   "cell_type": "code",
   "execution_count": 64,
   "metadata": {},
   "outputs": [],
   "source": [
    "# train test split using countvectorizer\n",
    "# dengan proporsi train 70% dan test 30%\n",
    "train_X_vectorizer, test_X_vectorizer, train_y, test_y = train_test_split(X_vectorizer, y, test_size=0.3, random_state=0)\n",
    "\n",
    "#train test split using tfidfvectorizer \n",
    "train_X_tfidf, test_X_tfidf, train_y, test_y = train_test_split(X_tfidf, y, test_size=0.3, random_state=0)"
   ]
  },
  {
   "cell_type": "markdown",
   "metadata": {},
   "source": [
    "> Untuk membuat model klasifikasi perlu dilakukan split dari sampel data dengan proporsi data train 70% dan data test 30%. Pengambilan data train dan data test dilakukan secara random."
   ]
  },
  {
   "cell_type": "markdown",
   "metadata": {},
   "source": [
    "### 2. Model Machine Learning\n",
    "Berikut akan dibuat model untuk sentiment analysis dengan menggunakan metode klasifikasi. Dipilih dua metode yang akan diuji untuk membandingkan keduanya manakah model yang lebih baik untuk menggambarkan sentiment analysis dari data twitter. Metode terpilih sebagai berikut:\n",
    "- Logistic regression\n",
    "- Naive Bayes"
   ]
  },
  {
   "cell_type": "markdown",
   "metadata": {},
   "source": [
    "### 2.a. Logistic Regression"
   ]
  },
  {
   "cell_type": "code",
   "execution_count": 79,
   "metadata": {},
   "outputs": [
    {
     "name": "stderr",
     "output_type": "stream",
     "text": [
      "C:\\Users\\tararo064184\\AppData\\Local\\Continuum\\anaconda3\\lib\\site-packages\\sklearn\\linear_model\\logistic.py:432: FutureWarning: Default solver will be changed to 'lbfgs' in 0.22. Specify a solver to silence this warning.\n",
      "  FutureWarning)\n"
     ]
    }
   ],
   "source": [
    "# TFIDFVectorizer\n",
    "Lr_tfidf = LogisticRegression()\n",
    "Lr_tfidf.fit(train_X_tfidf,train_y)\n",
    "Lr_pred_tfidf_train = Lr_tfidf.predict(train_X_tfidf)\n",
    "Lr_pred_tfidf_test = Lr_tfidf.predict(test_X_tfidf)"
   ]
  },
  {
   "cell_type": "code",
   "execution_count": 83,
   "metadata": {},
   "outputs": [
    {
     "name": "stdout",
     "output_type": "stream",
     "text": [
      "=========================================\n",
      "      TF-IDF - Logistic Regression       \n",
      "=========================================\n",
      "\n",
      "Result Summary :\n",
      "Recall train & test     : 82.81% & 76.50%\n",
      "Precision train & test  : 82.81% & 76.50%\n",
      "F1 Score train & test   : 82.81% & 76.01%\n",
      "\n",
      "=========================================\n"
     ]
    }
   ],
   "source": [
    "# using TFIDFVectorizer\n",
    "print('=========================================')\n",
    "print('      TF-IDF - Logistic Regression       ')\n",
    "print('=========================================')\n",
    "\n",
    "Lr_recall_tfidf_train = recall_score(train_y, Lr_pred_tfidf_train, average=\"micro\")\n",
    "Lr_recall_tfidf_test = recall_score(test_y, Lr_pred_tfidf_test,average=\"micro\") \n",
    "\n",
    "Lr_precision_tfidf_train = precision_score(train_y, Lr_pred_tfidf_train,average=\"micro\")\n",
    "Lr_precision_tfidf_test = precision_score(test_y, Lr_pred_tfidf_test,average=\"micro\")\n",
    "\n",
    "Lr_f1_score_tfidf_train = f1_score(train_y, Lr_pred_tfidf_train,average=\"micro\")\n",
    "Lr_f1_score_tfidf_test = f1_score(test_y,Lr_pred_tfidf_test,average=\"micro\")\n",
    "\n",
    "print('')\n",
    "print('Result Summary :')\n",
    "print('Recall train & test     : %.2f%%' % (Lr_recall_tfidf_train * 100), '&', '%.2f%%' % (Lr_recall_tfidf_test * 100))\n",
    "print('Precision train & test  : %.2f%%' % (Lr_precision_tfidf_train * 100), '&', '%.2f%%' % (Lr_precision_tfidf_test * 100))\n",
    "print('F1 Score train & test   : %.2f%%' % (Lr_f1_score_tfidf_train * 100), '&', '%.2f%%' % (Lr_f1_score_vec_test * 100))\n",
    "print('')\n",
    "print('=========================================')"
   ]
  },
  {
   "cell_type": "markdown",
   "metadata": {},
   "source": [
    "> **TF-IDF : Logistic Regression** <br>\n",
    "Dari result summary di atas diketahui bahwa kebaikan model untuk merepresentasikan sentiment analysis dari dataset twitter ada pada nilai 82.81% untuk data train dan 76% untuk data test. Dari summary tersebut dapat disimpulkan bahwa model Logistic Regression mampu merepresentasikan sentimen dataset sebab nilai kebaikannya > 50%. Kemudian dari perbandingan train dan test (sekitar 6%) dapat dikatakan bahwa sampel yang diambil sudah baik. Sehingga model yang dibuat dapat memiliki kebaikan yang tidak jauh berbeda dengan data lain yang diujikan."
   ]
  },
  {
   "cell_type": "markdown",
   "metadata": {},
   "source": [
    "### 2.b. Naive Bayes"
   ]
  },
  {
   "cell_type": "code",
   "execution_count": 84,
   "metadata": {},
   "outputs": [],
   "source": [
    "# TFIDFVectorizer\n",
    "# dengan menggunakan fungsi multinomial\n",
    "NB_tfidf = MultinomialNB()\n",
    "NB_tfidf.fit(train_X_tfidf,train_y)\n",
    "NB_pred_tfidf_train = NB_tfidf.predict(train_X_tfidf)\n",
    "NB_pred_tfidf_test = NB_tfidf.predict(test_X_tfidf)"
   ]
  },
  {
   "cell_type": "code",
   "execution_count": 91,
   "metadata": {},
   "outputs": [
    {
     "name": "stdout",
     "output_type": "stream",
     "text": [
      "=========================================\n",
      "          TF-IDF - Naive Bayes          \n",
      "=========================================\n",
      "\n",
      "Result Summary :\n",
      "Recall train & test     : 84.25% & 75.26%\n",
      "Precision train & test  : 84.25% & 75.26%\n",
      "F1 Score train & test   : 84.25% & 75.70%\n",
      "\n",
      "=========================================\n"
     ]
    }
   ],
   "source": [
    "# using TFIDFVectorizer\n",
    "print('=========================================')\n",
    "print('          TF-IDF - Naive Bayes          ')\n",
    "print('=========================================')\n",
    "\n",
    "NB_recall_tfidf_train = recall_score(train_y, NB_pred_tfidf_train, average=\"micro\")\n",
    "NB_recall_tfidf_test = recall_score(test_y, NB_pred_tfidf_test,average=\"micro\") \n",
    "\n",
    "NB_precision_tfidf_train = precision_score(train_y, NB_pred_tfidf_train,average=\"micro\")\n",
    "NB_precision_tfidf_test = precision_score(test_y, NB_pred_tfidf_test,average=\"micro\")\n",
    "\n",
    "NB_f1_score_tfidf_train = f1_score(train_y, NB_pred_tfidf_train,average=\"micro\")\n",
    "NB_f1_score_tfidf_test = f1_score(test_y,NB_pred_tfidf_test,average=\"micro\")\n",
    "\n",
    "print('')\n",
    "print('Result Summary :')\n",
    "print('Recall train & test     : %.2f%%' % (NB_recall_tfidf_train * 100), '&', '%.2f%%' % (NB_recall_tfidf_test * 100))\n",
    "print('Precision train & test  : %.2f%%' % (NB_precision_tfidf_train * 100), '&', '%.2f%%' % (NB_precision_tfidf_test * 100))\n",
    "print('F1 Score train & test   : %.2f%%' % (NB_f1_score_tfidf_train * 100), '&', '%.2f%%' % (NB_f1_score_vec_test * 100))\n",
    "print('')\n",
    "print('=========================================')"
   ]
  },
  {
   "cell_type": "markdown",
   "metadata": {},
   "source": [
    "> **TF-IDF Naives Bayes** <br>\n",
    "Dari result summary di atas diketahui bahwa kebaikan model untuk merepresentasikan sentiment analysis dari dataset twitter ada pada nilai 84.25% untuk data train dan 75% untuk data test. Dari summary tersebut dapat disimpulkan bahwa model Naives Bayes mampu merepresentasikan sentimen dataset sebab nilai kebaikannya > 50%. Kemudian dari perbandingan train dan test (sekitar 9%) dapat dikatakan bahwa sampel yang diambil sudah baik. Sehingga model yang dibuat dapat memiliki kebaikan yang tidak jauh berbeda dengan data lain yang diujikan."
   ]
  },
  {
   "cell_type": "markdown",
   "metadata": {},
   "source": [
    "### Conclusion"
   ]
  },
  {
   "cell_type": "markdown",
   "metadata": {},
   "source": [
    "- Pada umumnya *social media* twitter digunakan oleh penggunanya untuk memberikan informasi seputar peristiwa atau kegiatan yang mereka lakukan di hari itu juga. Dari data tersebut hanya terdapat dua macam sentimen yaitu positif dan negatif. Jadi dapat dikatakan bahwa mayoritas tweet yang dibuat memiliki sentimen tertentu (bukan netral). Sentimen tersebut dapat terbentuk saat pengguna sedang senang/bahagia (positif) ataupun sedang marah/kesal/sedih (negatif). Rata-rata tweet yang dibuat adalah seputar pekerjaan pengguna ataupun kisah cinta (asmara)."
   ]
  },
  {
   "cell_type": "markdown",
   "metadata": {},
   "source": [
    "- Dengan dataset yang digunakan maka model yang baik yang mampu merepresentasikan sentimen dari pengguna twitter adalah Naives Bayes. Sehingga metode tersebut dapat digunakan pada data-data tweet berikutnya untuk mengetahui sentimen apa yang dimunculkan dari tweet yang dibuat. Kebaikan dari model tersebut ada pada angka 84% yang artinya model tersebut dapat merepresentasikan dataset namun tidak *over-fitting*."
   ]
  },
  {
   "cell_type": "markdown",
   "metadata": {},
   "source": [
    "- Dengan dilakukannya *sentiment analysis / social media analysis* ini dapat membantu perusahaan dalam mengenal *customer behaviour* nya. Dengan mengenal maka perusahaan dapat memberikan *campaign* yang tepat sasaran. Sehingga *effort* yang dilakukan memiliki peluang lebih untuk sukses. Dengan analisis ini juga dapat memberikan informasi tambahan untuk dilakukan *customer segmentation*. Tentunya hal-hal seperti ini dapat membantu perusahaan untuk menaikkan penjualan barang/jasanya."
   ]
  }
 ],
 "metadata": {
  "kernelspec": {
   "display_name": "Python 3",
   "language": "python",
   "name": "python3"
  },
  "language_info": {
   "codemirror_mode": {
    "name": "ipython",
    "version": 3
   },
   "file_extension": ".py",
   "mimetype": "text/x-python",
   "name": "python",
   "nbconvert_exporter": "python",
   "pygments_lexer": "ipython3",
   "version": "3.7.3"
  }
 },
 "nbformat": 4,
 "nbformat_minor": 2
}
